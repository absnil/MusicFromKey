{
 "cells": [
  {
   "cell_type": "markdown",
   "metadata": {},
   "source": [
    "# Set Up Data Structures"
   ]
  },
  {
   "cell_type": "code",
   "execution_count": 10,
   "metadata": {},
   "outputs": [],
   "source": [
    "note_list=['A','A#','B','C','C#','D','D#','E','F','F#','G','G#']\n",
    "Major_spacing=[2,2,1,2,2,2,1]\n",
    "Minor_spacing=[2,1,2,2,1,2,2]"
   ]
  },
  {
   "cell_type": "code",
   "execution_count": 9,
   "metadata": {},
   "outputs": [],
   "source": [
    "def get_key():\n",
    "    key=input('enter key- A A# B C D D# E F F# G G#')\n",
    "    return key    "
   ]
  },
  {
   "cell_type": "code",
   "execution_count": 11,
   "metadata": {},
   "outputs": [],
   "source": [
    "def fill_ref_list(key):\n",
    "    ref_list=[]\n",
    "    index_ref=note_list.index(key)\n",
    "    \n",
    "    for i in range(index_ref,len(note_list)):\n",
    "        ref_list.append(note_list[i])\n",
    "\n",
    "    for i in range(0,index_ref+1):\n",
    "        ref_list.append(note_list[i])\n",
    "    return ref_list"
   ]
  },
  {
   "cell_type": "code",
   "execution_count": 12,
   "metadata": {},
   "outputs": [],
   "source": [
    "def generate_major_scale(Major_spacing,ref_list):\n",
    "    major_scale=[]\n",
    "    i=0\n",
    "    major_scale.append(ref_list[i])\n",
    "    for count in Major_spacing:\n",
    "        i=i+count\n",
    "        major_scale.append(ref_list[i])\n",
    "    return major_scale"
   ]
  },
  {
   "cell_type": "code",
   "execution_count": 13,
   "metadata": {},
   "outputs": [],
   "source": [
    "def generate_minor_scale(Minor_spacing,ref_list):\n",
    "    minor_scale=[]\n",
    "    i=0\n",
    "    minor_scale.append(ref_list[i])\n",
    "    for count in Minor_spacing:\n",
    "        i=i+count\n",
    "        minor_scale.append(ref_list[i])\n",
    "    return minor_scale"
   ]
  },
  {
   "cell_type": "code",
   "execution_count": 14,
   "metadata": {},
   "outputs": [],
   "source": [
    "def generate_major_chords(scale):\n",
    "    major_chords=[]\n",
    "    major_chords.append(scale[0])\n",
    "    major_chords.append(scale[3])\n",
    "    major_chords.append(scale[4])\n",
    "    return major_chords"
   ]
  },
  {
   "cell_type": "code",
   "execution_count": 15,
   "metadata": {},
   "outputs": [],
   "source": [
    "def generate_minor_chords(scale):\n",
    "    Minor_chords=[]    \n",
    "    word=scale[1]+'m'\n",
    "    Minor_chords.append(word)\n",
    "    word=scale[2]+'m'\n",
    "    Minor_chords.append(word)\n",
    "    word=scale[5]+'m'\n",
    "    Minor_chords.append(word)\n",
    "    return Minor_chords"
   ]
  },
  {
   "cell_type": "code",
   "execution_count": 1,
   "metadata": {},
   "outputs": [],
   "source": [
    "for note in note_list:\n",
    "    key=note\n",
    "    ref_list=fill_ref_list(key)\n",
    "    major_scale=generate_major_scale(Major_spacing,ref_list)\n",
    "    minor_scale=generate_minor_scale(Minor_spacing,ref_list)\n",
    "    major_chords_scale_major=generate_major_chords(major_scale)\n",
    "    major_chords_scale_minor=generate_major_chords(minor_scale)\n",
    "    minor_chords_scale_major=generate_minor_chords(major_scale)\n",
    "    minor_chords_scale_minor=generate_minor_chords(minor_scale)\n",
    "    f= open(key +\".txt\",\"w+\")\n",
    "    f.write(\"Key selected is \"+ key + \"\\n\")\n",
    "    f.write(\"the Major Scale is given by \"+ \"\\n\")\n",
    "    f.write(str(major_scale)[1:-1]+ \"\\n\")\n",
    "    f.write(\"the minor scale is given by \"+ \"\\n\")\n",
    "    f.write(str(minor_scale)[1:-1]+ \"\\n\")\n",
    "    f.write(\"the major chords for the \" +key + \" major scale are given by \"+ \"\\n\")\n",
    "    f.write(str(major_chords_scale_major)[1:-1]+ \"\\n\")\n",
    "    f.write(\"the minor chords for the \" +key + \" major scale are given by \"+ \"\\n\")\n",
    "    f.write(str(minor_chords_scale_major)[1:-1]+ \"\\n\")\n",
    "    f.write(\"the major chords for the \" +key + \" minor scale are given by \"+ \"\\n\")\n",
    "    f.write(str(major_chords_scale_minor)[1:-1]+ \"\\n\")\n",
    "    f.write(\"the minor chords for the \" +key + \" minor scale are given by \"+ \"\\n\")\n",
    "    f.write(str(minor_chords_scale_minor)[1:-1]+ \"\\n\")\n",
    "    f.close()"
   ]
  }
 ],
 "metadata": {
  "kernelspec": {
   "display_name": "Python 3",
   "language": "python",
   "name": "python3"
  },
  "language_info": {
   "codemirror_mode": {
    "name": "ipython",
    "version": 3
   },
   "file_extension": ".py",
   "mimetype": "text/x-python",
   "name": "python",
   "nbconvert_exporter": "python",
   "pygments_lexer": "ipython3",
   "version": "3.7.1"
  }
 },
 "nbformat": 4,
 "nbformat_minor": 2
}
